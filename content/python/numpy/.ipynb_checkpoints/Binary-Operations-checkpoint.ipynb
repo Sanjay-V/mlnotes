{
 "cells": [
  {
   "cell_type": "raw",
   "metadata": {},
   "source": [
    "---\n",
    "title: \"Binary Operations\"\n",
    "author: \"Sanjay\"\n",
    "date: 2020-09-04\n",
    "description: \"-\"\n",
    "type: technical_note\n",
    "draft: false\n",
    "---"
   ]
  },
  {
   "cell_type": "code",
   "execution_count": 13,
   "metadata": {},
   "outputs": [],
   "source": [
    "# Importing numpy library\n",
    "import numpy as np"
   ]
  },
  {
   "cell_type": "code",
   "execution_count": 14,
   "metadata": {},
   "outputs": [],
   "source": [
    "# Creating array A\n",
    "A = np.array( [[ 71, 82],\n",
    "                 [ 48, 23]] )"
   ]
  },
  {
   "cell_type": "code",
   "execution_count": 15,
   "metadata": {},
   "outputs": [],
   "source": [
    "# Creating array B\n",
    "B = np.array([[5, 2],\n",
    "            [3, 7]])"
   ]
  },
  {
   "cell_type": "code",
   "execution_count": 16,
   "metadata": {},
   "outputs": [
    {
     "name": "stdout",
     "output_type": "stream",
     "text": [
      "Array sum:\n",
      " [[76 84]\n",
      " [51 30]]\n"
     ]
    }
   ],
   "source": [
    "# Adding arrays and printing it out\n",
    "print(\"Array sum:\\n\", A + B)"
   ]
  },
  {
   "cell_type": "code",
   "execution_count": 17,
   "metadata": {},
   "outputs": [
    {
     "name": "stdout",
     "output_type": "stream",
     "text": [
      "Array multiplication:\n",
      " [[355 164]\n",
      " [144 161]]\n"
     ]
    }
   ],
   "source": [
    "# Multiply arrays A and B (elementwise multiplication)\n",
    "print(\"Array multiplication:\\n\", A*B)"
   ]
  },
  {
   "cell_type": "code",
   "execution_count": 18,
   "metadata": {},
   "outputs": [
    {
     "name": "stdout",
     "output_type": "stream",
     "text": [
      "Matrix multiplication:\n",
      " [[601 716]\n",
      " [309 257]]\n"
     ]
    }
   ],
   "source": [
    "# Multiply arrays A and B (matrix multiplication)\n",
    "print(\"Matrix multiplication:\\n\", A.dot(B))"
   ]
  }
 ],
 "metadata": {
  "kernelspec": {
   "display_name": "kagglevil",
   "language": "python",
   "name": "kagglevil"
  },
  "language_info": {
   "codemirror_mode": {
    "name": "ipython",
    "version": 3
   },
   "file_extension": ".py",
   "mimetype": "text/x-python",
   "name": "python",
   "nbconvert_exporter": "python",
   "pygments_lexer": "ipython3",
   "version": "3.8.5"
  }
 },
 "nbformat": 4,
 "nbformat_minor": 4
}
