{
 "cells": [
  {
   "cell_type": "raw",
   "metadata": {},
   "source": [
    "---\n",
    "title: \"Universal Functions\"\n",
    "author: \"Sanjay\"\n",
    "date: 2020-09-04\n",
    "description: \"-\"\n",
    "type: technical_note\n",
    "draft: false\n",
    "---"
   ]
  },
  {
   "cell_type": "code",
   "execution_count": 7,
   "metadata": {},
   "outputs": [],
   "source": [
    "# Importing numpy library\n",
    "import numpy as np"
   ]
  },
  {
   "cell_type": "code",
   "execution_count": 8,
   "metadata": {},
   "outputs": [],
   "source": [
    "# Creating array A\n",
    "A = np.array( [[ 71, 82],\n",
    "                 [ 48, 23]] )"
   ]
  },
  {
   "cell_type": "code",
   "execution_count": 9,
   "metadata": {},
   "outputs": [
    {
     "name": "stdout",
     "output_type": "stream",
     "text": [
      "Sine values of array elements: [[ 0.95105465  0.31322878]\n",
      " [-0.76825466 -0.8462204 ]]\n"
     ]
    }
   ],
   "source": [
    "# Printing an array of sine values\n",
    "print(\"Sine values of array elements:\", np.sin(A))"
   ]
  },
  {
   "cell_type": "code",
   "execution_count": 10,
   "metadata": {},
   "outputs": [
    {
     "name": "stdout",
     "output_type": "stream",
     "text": [
      "Exponent of array elements: [[6.83767123e+30 4.09399696e+35]\n",
      " [7.01673591e+20 9.74480345e+09]]\n"
     ]
    }
   ],
   "source": [
    "# Printing an array of exponential values\n",
    "print(\"Exponent of array elements:\", np.exp(A))"
   ]
  },
  {
   "cell_type": "code",
   "execution_count": 11,
   "metadata": {},
   "outputs": [
    {
     "name": "stdout",
     "output_type": "stream",
     "text": [
      "Square root of array elements: [[8.42614977 9.05538514]\n",
      " [6.92820323 4.79583152]]\n"
     ]
    }
   ],
   "source": [
    "# Printing square root of array values\n",
    "print(\"Square root of array elements:\", np.sqrt(A))"
   ]
  }
 ],
 "metadata": {
  "kernelspec": {
   "display_name": "kagglevil",
   "language": "python",
   "name": "kagglevil"
  },
  "language_info": {
   "codemirror_mode": {
    "name": "ipython",
    "version": 3
   },
   "file_extension": ".py",
   "mimetype": "text/x-python",
   "name": "python",
   "nbconvert_exporter": "python",
   "pygments_lexer": "ipython3",
   "version": "3.8.5"
  }
 },
 "nbformat": 4,
 "nbformat_minor": 4
}
