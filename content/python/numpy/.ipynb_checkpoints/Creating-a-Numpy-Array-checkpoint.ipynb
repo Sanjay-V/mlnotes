{
 "cells": [
  {
   "cell_type": "raw",
   "metadata": {},
   "source": [
    "---\n",
    "title: \"Creating a Numpy Array\"\n",
    "author: \"Sanjay\"\n",
    "date: 2020-09-04\n",
    "description: \"-\"\n",
    "type: technical_note\n",
    "draft: false\n",
    "---"
   ]
  },
  {
   "cell_type": "code",
   "execution_count": 7,
   "metadata": {},
   "outputs": [],
   "source": [
    "# Importing numpy library\n",
    "import numpy as np"
   ]
  },
  {
   "cell_type": "code",
   "execution_count": 8,
   "metadata": {},
   "outputs": [
    {
     "name": "stdout",
     "output_type": "stream",
     "text": [
      "Array with Rank 1: \n",
      " [99 47 38]\n"
     ]
    }
   ],
   "source": [
    "# Creating a rank 1 Array and printing it out\n",
    "arr = np.array([99, 47, 38])\n",
    "print(\"Array with Rank 1: \\n\",arr)"
   ]
  },
  {
   "cell_type": "code",
   "execution_count": 9,
   "metadata": {},
   "outputs": [
    {
     "name": "stdout",
     "output_type": "stream",
     "text": [
      "Array with Rank 2: \n",
      " [[11 27 35]\n",
      " [46 52 64]]\n"
     ]
    }
   ],
   "source": [
    "# Creating a rank 2 Array and printing it out\n",
    "arr = np.array([[11, 27, 35],\n",
    "                [46, 52, 64]])\n",
    "print(\"Array with Rank 2: \\n\", arr)"
   ]
  },
  {
   "cell_type": "code",
   "execution_count": 10,
   "metadata": {},
   "outputs": [
    {
     "name": "stdout",
     "output_type": "stream",
     "text": [
      "\n",
      "Array created using passed tuple:\n",
      " [16 34 27]\n"
     ]
    }
   ],
   "source": [
    "# Creating an array from tuple and printing it out\n",
    "arr = np.array((16, 34, 27))\n",
    "print(\"\\nArray created using \"\n",
    "      \"passed tuple:\\n\", arr)"
   ]
  }
 ],
 "metadata": {
  "kernelspec": {
   "display_name": "kagglevil",
   "language": "python",
   "name": "kagglevil"
  },
  "language_info": {
   "codemirror_mode": {
    "name": "ipython",
    "version": 3
   },
   "file_extension": ".py",
   "mimetype": "text/x-python",
   "name": "python",
   "nbconvert_exporter": "python",
   "pygments_lexer": "ipython3",
   "version": "3.8.5"
  }
 },
 "nbformat": 4,
 "nbformat_minor": 4
}
