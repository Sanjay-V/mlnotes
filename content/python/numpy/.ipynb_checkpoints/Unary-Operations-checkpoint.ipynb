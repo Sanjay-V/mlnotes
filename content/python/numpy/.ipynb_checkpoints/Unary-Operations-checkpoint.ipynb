{
 "cells": [
  {
   "cell_type": "raw",
   "metadata": {},
   "source": [
    "---\n",
    "title: \"Unary Operations\"\n",
    "author: \"Sanjay\"\n",
    "date: 2020-09-04\n",
    "description: \"-\"\n",
    "type: technical_note\n",
    "draft: false\n",
    "---"
   ]
  },
  {
   "cell_type": "code",
   "execution_count": 11,
   "metadata": {},
   "outputs": [],
   "source": [
    "# Importing numpy library\n",
    "import numpy as np"
   ]
  },
  {
   "cell_type": "code",
   "execution_count": 12,
   "metadata": {},
   "outputs": [],
   "source": [
    "# Creating array object\n",
    "arr = np.array( [[ 71, 82, 53],\n",
    "                 [ 48, 23, 56]] )"
   ]
  },
  {
   "cell_type": "code",
   "execution_count": 13,
   "metadata": {},
   "outputs": [
    {
     "name": "stdout",
     "output_type": "stream",
     "text": [
      "Largest element is: 82\n"
     ]
    }
   ],
   "source": [
    "# Printing the maximum element in a array\n",
    "print(\"Largest element is:\", arr.max())"
   ]
  },
  {
   "cell_type": "code",
   "execution_count": 14,
   "metadata": {},
   "outputs": [
    {
     "name": "stdout",
     "output_type": "stream",
     "text": [
      "Row-wise maximum elements: [82 56]\n"
     ]
    }
   ],
   "source": [
    "# Printing row-wise maximum elements\n",
    "print(\"Row-wise maximum elements:\", arr.max(axis = 1))"
   ]
  },
  {
   "cell_type": "code",
   "execution_count": 15,
   "metadata": {},
   "outputs": [
    {
     "name": "stdout",
     "output_type": "stream",
     "text": [
      "Column-wise maximum elements: [71 82 56]\n"
     ]
    }
   ],
   "source": [
    "# Printing column-wise maximum elements\n",
    "print(\"Column-wise maximum elements:\", arr.max(axis = 0))"
   ]
  },
  {
   "cell_type": "code",
   "execution_count": 16,
   "metadata": {},
   "outputs": [
    {
     "name": "stdout",
     "output_type": "stream",
     "text": [
      "Sum of all array elements: 333\n"
     ]
    }
   ],
   "source": [
    "# Sum of array elements\n",
    "print(\"Sum of all array elements:\", arr.sum())"
   ]
  },
  {
   "cell_type": "code",
   "execution_count": 17,
   "metadata": {},
   "outputs": [
    {
     "name": "stdout",
     "output_type": "stream",
     "text": [
      "Cumulative sum along each row of an array:\n",
      " [[ 71 153 206]\n",
      " [ 48  71 127]]\n"
     ]
    }
   ],
   "source": [
    "# Cumulative sum along each row of an array\n",
    "print(\"Cumulative sum along each row of an array:\\n\",arr.cumsum(axis = 1))"
   ]
  },
  {
   "cell_type": "code",
   "execution_count": 18,
   "metadata": {},
   "outputs": [
    {
     "name": "stdout",
     "output_type": "stream",
     "text": [
      "Cumulative sum along each column of an array:\n",
      " [[ 71  82  53]\n",
      " [119 105 109]]\n"
     ]
    }
   ],
   "source": [
    "# Cumulative sum along each column of an array\n",
    "print(\"Cumulative sum along each column of an array:\\n\",arr.cumsum(axis = 0))"
   ]
  }
 ],
 "metadata": {
  "kernelspec": {
   "display_name": "kagglevil",
   "language": "python",
   "name": "kagglevil"
  },
  "language_info": {
   "codemirror_mode": {
    "name": "ipython",
    "version": 3
   },
   "file_extension": ".py",
   "mimetype": "text/x-python",
   "name": "python",
   "nbconvert_exporter": "python",
   "pygments_lexer": "ipython3",
   "version": "3.8.5"
  }
 },
 "nbformat": 4,
 "nbformat_minor": 4
}
