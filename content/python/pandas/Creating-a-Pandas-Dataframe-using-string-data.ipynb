{
 "cells": [
  {
   "cell_type": "raw",
   "metadata": {},
   "source": [
    "---\n",
    "title: \"Creating a Pandas Dataframe using string data\"\n",
    "author: \"Sanjay\"\n",
    "date: 2020-09-04\n",
    "description: \"-\"\n",
    "type: technical_note\n",
    "draft: false\n",
    "---"
   ]
  },
  {
   "cell_type": "code",
   "execution_count": 15,
   "metadata": {},
   "outputs": [],
   "source": [
    "# Import pandas library  \n",
    "import pandas as pd"
   ]
  },
  {
   "cell_type": "code",
   "execution_count": 16,
   "metadata": {},
   "outputs": [],
   "source": [
    "# Importing StringIO function from io module \n",
    "from io import StringIO "
   ]
  },
  {
   "cell_type": "code",
   "execution_count": 17,
   "metadata": {},
   "outputs": [],
   "source": [
    "# Wrap the string data in StringIO function and store it in a variable\n",
    "data = StringIO(\"\"\"Date;Exam;Marks \n",
    "10/2/2020;Maths;100 \n",
    "11/2/2020;Physics;95\n",
    "12/2/2020;Chemistry;80 \n",
    "13/2/2020;ComputerScience;85 \"\"\") "
   ]
  },
  {
   "cell_type": "code",
   "execution_count": 18,
   "metadata": {},
   "outputs": [],
   "source": [
    "# Read the data using Pandas read_csv() function \n",
    "data = pd.read_csv(data, sep =\";\") "
   ]
  },
  {
   "cell_type": "code",
   "execution_count": 19,
   "metadata": {},
   "outputs": [
    {
     "name": "stdout",
     "output_type": "stream",
     "text": [
      "        Date             Exam  Marks \n",
      "0  10/2/2020            Maths     100\n",
      "1  11/2/2020          Physics      95\n",
      "2  12/2/2020        Chemistry      80\n",
      "3  13/2/2020  ComputerScience      85\n"
     ]
    }
   ],
   "source": [
    "# Print dataframe  \n",
    "print(data) "
   ]
  }
 ],
 "metadata": {
  "kernelspec": {
   "display_name": "kagglevil",
   "language": "python",
   "name": "kagglevil"
  },
  "language_info": {
   "codemirror_mode": {
    "name": "ipython",
    "version": 3
   },
   "file_extension": ".py",
   "mimetype": "text/x-python",
   "name": "python",
   "nbconvert_exporter": "python",
   "pygments_lexer": "ipython3",
   "version": "3.8.5"
  }
 },
 "nbformat": 4,
 "nbformat_minor": 4
}
