{
 "cells": [
  {
   "cell_type": "raw",
   "metadata": {},
   "source": [
    "---\n",
    "title: \"Conditional operation on Pandas Dataframe columns\"\n",
    "author: \"Sanjay\"\n",
    "date: 2020-09-04\n",
    "description: \"-\"\n",
    "type: technical_note\n",
    "draft: false\n",
    "---"
   ]
  },
  {
   "cell_type": "code",
   "execution_count": 1,
   "metadata": {},
   "outputs": [],
   "source": [
    "# Import pandas library  \n",
    "import pandas as pd"
   ]
  },
  {
   "cell_type": "code",
   "execution_count": 2,
   "metadata": {},
   "outputs": [],
   "source": [
    "# Create pandas dataframe \n",
    "data = pd.DataFrame({'Date':['10/2/2020', '11/2/2020', '12/2/2020', '13/2/2020'], \n",
    "                   'Product':['Umbrella', 'Matress', 'Badminton', 'Shuttle'], \n",
    "                   'Last Price':[1200, 1500, 1600, 352], \n",
    "                   'Updated Price':[1300, 1400, 1550, 600], \n",
    "                   'Discount':[10, 10, 10, 10]}) "
   ]
  },
  {
   "cell_type": "code",
   "execution_count": 3,
   "metadata": {},
   "outputs": [
    {
     "name": "stdout",
     "output_type": "stream",
     "text": [
      "        Date    Product  Last Price  Updated Price  Discount\n",
      "0  10/2/2020   Umbrella        1200           1300        10\n",
      "1  11/2/2020    Matress        1500           1400        10\n",
      "2  12/2/2020  Badminton        1600           1550        10\n",
      "3  13/2/2020    Shuttle         352            600        10\n"
     ]
    }
   ],
   "source": [
    "# Print the dataframe \n",
    "print(data) "
   ]
  },
  {
   "cell_type": "code",
   "execution_count": 4,
   "metadata": {},
   "outputs": [],
   "source": [
    "# Condition - Check if the updated price is available or not \n",
    "if 'Updated Price' in data.columns: \n",
    "    data['Final cost'] = data['Updated Price'] - (data['Updated Price']*0.1) \n",
    "  \n",
    "else : \n",
    "    data['Final cost'] = data['Last Price'] - (data['Last Price']*0.1) "
   ]
  },
  {
   "cell_type": "code",
   "execution_count": 5,
   "metadata": {},
   "outputs": [
    {
     "name": "stdout",
     "output_type": "stream",
     "text": [
      "        Date    Product  Last Price  Updated Price  Discount  Final cost\n",
      "0  10/2/2020   Umbrella        1200           1300        10      1170.0\n",
      "1  11/2/2020    Matress        1500           1400        10      1260.0\n",
      "2  12/2/2020  Badminton        1600           1550        10      1395.0\n",
      "3  13/2/2020    Shuttle         352            600        10       540.0\n"
     ]
    }
   ],
   "source": [
    "# Print the Dataframe \n",
    "print(data) "
   ]
  }
 ],
 "metadata": {
  "kernelspec": {
   "display_name": "kagglevil",
   "language": "python",
   "name": "kagglevil"
  },
  "language_info": {
   "codemirror_mode": {
    "name": "ipython",
    "version": 3
   },
   "file_extension": ".py",
   "mimetype": "text/x-python",
   "name": "python",
   "nbconvert_exporter": "python",
   "pygments_lexer": "ipython3",
   "version": "3.8.5"
  }
 },
 "nbformat": 4,
 "nbformat_minor": 4
}
