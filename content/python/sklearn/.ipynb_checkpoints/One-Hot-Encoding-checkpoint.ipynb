{
 "cells": [
  {
   "cell_type": "raw",
   "metadata": {},
   "source": [
    "---\n",
    "title: \"One Hot Encoding\"\n",
    "author: \"Sanjay\"\n",
    "date: 2020-09-04\n",
    "description: \"-\"\n",
    "type: technical_note\n",
    "draft: false\n",
    "---"
   ]
  },
  {
   "cell_type": "code",
   "execution_count": 21,
   "metadata": {},
   "outputs": [],
   "source": [
    "# Import pandas and numpy library  \n",
    "import pandas as pd\n",
    "import numpy as np"
   ]
  },
  {
   "cell_type": "code",
   "execution_count": 22,
   "metadata": {},
   "outputs": [],
   "source": [
    "# Initialize list of dicts \n",
    "data = [{'Item': \"Onion\", 'Price': 85}, \n",
    "        {'Item': \"Tomato\", 'Price': 80},\n",
    "       {'Item': \"Egg\", 'Price': 5},\n",
    "       {'Item': \"Carrot\", 'Price': 35},\n",
    "       {'Item': \"Cabbage\", 'Price': 30},] "
   ]
  },
  {
   "cell_type": "code",
   "execution_count": 23,
   "metadata": {},
   "outputs": [
    {
     "name": "stdout",
     "output_type": "stream",
     "text": [
      "[{'Item': 'Onion', 'Price': 85}, {'Item': 'Tomato', 'Price': 80}, {'Item': 'Egg', 'Price': 5}, {'Item': 'Carrot', 'Price': 35}, {'Item': 'Cabbage', 'Price': 30}]\n"
     ]
    }
   ],
   "source": [
    "# Print list of dicts \n",
    "print(data)"
   ]
  },
  {
   "cell_type": "code",
   "execution_count": 24,
   "metadata": {},
   "outputs": [],
   "source": [
    "# Create the pandas DataFrame \n",
    "data = pd.DataFrame(data) "
   ]
  },
  {
   "cell_type": "code",
   "execution_count": 25,
   "metadata": {},
   "outputs": [
    {
     "name": "stdout",
     "output_type": "stream",
     "text": [
      "      Item  Price\n",
      "0    Onion     85\n",
      "1   Tomato     80\n",
      "2      Egg      5\n",
      "3   Carrot     35\n",
      "4  Cabbage     30\n"
     ]
    }
   ],
   "source": [
    "# Print dataframe  \n",
    "print(data) "
   ]
  },
  {
   "cell_type": "code",
   "execution_count": 26,
   "metadata": {},
   "outputs": [],
   "source": [
    "# Importing one hot encoder from sklearn \n",
    "from sklearn.preprocessing import OneHotEncoder \n",
    "ohe = OneHotEncoder() "
   ]
  },
  {
   "cell_type": "code",
   "execution_count": 27,
   "metadata": {},
   "outputs": [
    {
     "name": "stdout",
     "output_type": "stream",
     "text": [
      "     0    1    2    3    4     5\n",
      "0  0.0  0.0  0.0  1.0  0.0  85.0\n",
      "1  0.0  0.0  0.0  0.0  1.0  80.0\n",
      "2  0.0  0.0  1.0  0.0  0.0   5.0\n",
      "3  0.0  1.0  0.0  0.0  0.0  35.0\n",
      "4  1.0  0.0  0.0  0.0  0.0  30.0\n"
     ]
    }
   ],
   "source": [
    "# One hot encoding the Item column and printing it out\n",
    "from sklearn.compose import ColumnTransformer \n",
    "columnTransformer = ColumnTransformer([('encoder', OneHotEncoder(), [0])], remainder='passthrough') \n",
    "datum = np.array(columnTransformer.fit_transform(data)) \n",
    "datum = pd.DataFrame(datum)\n",
    "print(datum)"
   ]
  },
  {
   "cell_type": "code",
   "execution_count": 28,
   "metadata": {},
   "outputs": [
    {
     "name": "stdout",
     "output_type": "stream",
     "text": [
      "     0    1    2    3    4    5    6    7    8    9\n",
      "0  0.0  0.0  0.0  1.0  0.0  0.0  0.0  0.0  0.0  1.0\n",
      "1  0.0  0.0  0.0  0.0  1.0  0.0  0.0  0.0  1.0  0.0\n",
      "2  0.0  0.0  1.0  0.0  0.0  1.0  0.0  0.0  0.0  0.0\n",
      "3  0.0  1.0  0.0  0.0  0.0  0.0  0.0  1.0  0.0  0.0\n",
      "4  1.0  0.0  0.0  0.0  0.0  0.0  1.0  0.0  0.0  0.0\n"
     ]
    }
   ],
   "source": [
    "# One hot encoding the dataset and printing it out\n",
    "data = ohe.fit_transform(data).toarray()\n",
    "data = pd.DataFrame(data)\n",
    "print(data)"
   ]
  }
 ],
 "metadata": {
  "kernelspec": {
   "display_name": "kagglevil",
   "language": "python",
   "name": "kagglevil"
  },
  "language_info": {
   "codemirror_mode": {
    "name": "ipython",
    "version": 3
   },
   "file_extension": ".py",
   "mimetype": "text/x-python",
   "name": "python",
   "nbconvert_exporter": "python",
   "pygments_lexer": "ipython3",
   "version": "3.8.5"
  }
 },
 "nbformat": 4,
 "nbformat_minor": 4
}
