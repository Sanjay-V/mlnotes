{
 "cells": [
  {
   "cell_type": "raw",
   "metadata": {},
   "source": [
    "---\n",
    "title: \"Label Encoding\"\n",
    "author: \"Sanjay\"\n",
    "date: 2020-09-04\n",
    "description: \"-\"\n",
    "type: technical_note\n",
    "draft: false\n",
    "---"
   ]
  },
  {
   "cell_type": "code",
   "execution_count": 25,
   "metadata": {},
   "outputs": [],
   "source": [
    "# Import pandas library  \n",
    "import pandas as pd"
   ]
  },
  {
   "cell_type": "code",
   "execution_count": 26,
   "metadata": {},
   "outputs": [],
   "source": [
    "# Initialize list of dicts \n",
    "data = [{'Item': \"Onion\", 'Price': 85}, \n",
    "        {'Item': \"Tomato\", 'Price': 80},\n",
    "       {'Item': \"Egg\", 'Price': 5},\n",
    "       {'Item': \"Carrot\", 'Price': 35},\n",
    "       {'Item': \"Cabbage\", 'Price': 30},] "
   ]
  },
  {
   "cell_type": "code",
   "execution_count": 27,
   "metadata": {},
   "outputs": [
    {
     "name": "stdout",
     "output_type": "stream",
     "text": [
      "[{'Item': 'Onion', 'Price': 85}, {'Item': 'Tomato', 'Price': 80}, {'Item': 'Egg', 'Price': 5}, {'Item': 'Carrot', 'Price': 35}, {'Item': 'Cabbage', 'Price': 30}]\n"
     ]
    }
   ],
   "source": [
    "# Print list of dicts \n",
    "print(data)"
   ]
  },
  {
   "cell_type": "code",
   "execution_count": 28,
   "metadata": {},
   "outputs": [],
   "source": [
    "# Create the pandas DataFrame \n",
    "data = pd.DataFrame(data) "
   ]
  },
  {
   "cell_type": "code",
   "execution_count": 29,
   "metadata": {},
   "outputs": [
    {
     "name": "stdout",
     "output_type": "stream",
     "text": [
      "      Item  Price\n",
      "0    Onion     85\n",
      "1   Tomato     80\n",
      "2      Egg      5\n",
      "3   Carrot     35\n",
      "4  Cabbage     30\n"
     ]
    }
   ],
   "source": [
    "# Print dataframe  \n",
    "print(data) "
   ]
  },
  {
   "cell_type": "code",
   "execution_count": 30,
   "metadata": {},
   "outputs": [],
   "source": [
    "# Importing Label Encoder from Sklearn\n",
    "from sklearn.preprocessing import LabelEncoder \n",
    "le = LabelEncoder() "
   ]
  },
  {
   "cell_type": "code",
   "execution_count": 31,
   "metadata": {},
   "outputs": [
    {
     "name": "stdout",
     "output_type": "stream",
     "text": [
      "0    3\n",
      "1    4\n",
      "2    2\n",
      "3    1\n",
      "4    0\n",
      "Name: Item, dtype: int64\n"
     ]
    }
   ],
   "source": [
    "# Applying Label encoding for item column and printing it out\n",
    "data['Item']= le.fit_transform(data['Item']) \n",
    "print(data['Item'])"
   ]
  },
  {
   "cell_type": "code",
   "execution_count": 32,
   "metadata": {},
   "outputs": [
    {
     "name": "stdout",
     "output_type": "stream",
     "text": [
      "   Item  Price\n",
      "0     3     85\n",
      "1     4     80\n",
      "2     2      5\n",
      "3     1     35\n",
      "4     0     30\n"
     ]
    }
   ],
   "source": [
    "# Printing label encoded dataframe\n",
    "print(data)"
   ]
  },
  {
   "cell_type": "code",
   "execution_count": 33,
   "metadata": {},
   "outputs": [
    {
     "name": "stdout",
     "output_type": "stream",
     "text": [
      "0      Onion\n",
      "1     Tomato\n",
      "2        Egg\n",
      "3     Carrot\n",
      "4    Cabbage\n",
      "Name: Item, dtype: object\n"
     ]
    }
   ],
   "source": [
    "# Decoding the label encoded values\n",
    "data['Item'] = le.inverse_transform(data['Item'])\n",
    "print(data['Item'])"
   ]
  }
 ],
 "metadata": {
  "kernelspec": {
   "display_name": "kagglevil",
   "language": "python",
   "name": "kagglevil"
  },
  "language_info": {
   "codemirror_mode": {
    "name": "ipython",
    "version": 3
   },
   "file_extension": ".py",
   "mimetype": "text/x-python",
   "name": "python",
   "nbconvert_exporter": "python",
   "pygments_lexer": "ipython3",
   "version": "3.8.5"
  }
 },
 "nbformat": 4,
 "nbformat_minor": 4
}
