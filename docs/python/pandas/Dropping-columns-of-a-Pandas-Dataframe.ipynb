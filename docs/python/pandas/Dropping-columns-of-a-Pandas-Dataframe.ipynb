{
 "cells": [
  {
   "cell_type": "raw",
   "metadata": {},
   "source": [
    "---\n",
    "title: \"Dropping columns of a Pandas Dataframe\"\n",
    "author: \"Sanjay\"\n",
    "date: 2020-09-04\n",
    "description: \"-\"\n",
    "type: technical_note\n",
    "draft: false\n",
    "---"
   ]
  },
  {
   "cell_type": "code",
   "execution_count": 6,
   "metadata": {},
   "outputs": [],
   "source": [
    "# Import pandas library  \n",
    "import pandas as pd"
   ]
  },
  {
   "cell_type": "code",
   "execution_count": 7,
   "metadata": {},
   "outputs": [],
   "source": [
    "# Create pandas dataframe \n",
    "data = pd.DataFrame({'Date':['10/2/2020', '11/2/2020', '12/2/2020', '13/2/2020'], \n",
    "                   'Product':['Umbrella', 'Matress', 'Badminton', 'Shuttle'], \n",
    "                   'Last Price':[1200, 1500, 1600, 352], \n",
    "                   'Updated Price':[1300, 1400, 1550, 600], \n",
    "                   'Discount':[10, 10, 10, 10]}) "
   ]
  },
  {
   "cell_type": "code",
   "execution_count": 8,
   "metadata": {},
   "outputs": [
    {
     "name": "stdout",
     "output_type": "stream",
     "text": [
      "        Date    Product  Last Price  Updated Price  Discount\n",
      "0  10/2/2020   Umbrella        1200           1300        10\n",
      "1  11/2/2020    Matress        1500           1400        10\n",
      "2  12/2/2020  Badminton        1600           1550        10\n",
      "3  13/2/2020    Shuttle         352            600        10\n"
     ]
    }
   ],
   "source": [
    "# Print the dataframe \n",
    "print(data) "
   ]
  },
  {
   "cell_type": "code",
   "execution_count": 9,
   "metadata": {},
   "outputs": [],
   "source": [
    "# Dropping column of dataframe\n",
    "data = data.drop(['Last Price'], axis = 1) "
   ]
  },
  {
   "cell_type": "code",
   "execution_count": 10,
   "metadata": {},
   "outputs": [
    {
     "name": "stdout",
     "output_type": "stream",
     "text": [
      "        Date    Product  Updated Price  Discount\n",
      "0  10/2/2020   Umbrella           1300        10\n",
      "1  11/2/2020    Matress           1400        10\n",
      "2  12/2/2020  Badminton           1550        10\n",
      "3  13/2/2020    Shuttle            600        10\n"
     ]
    }
   ],
   "source": [
    "# Print the Dataframe \n",
    "print(data) "
   ]
  }
 ],
 "metadata": {
  "kernelspec": {
   "display_name": "kagglevil",
   "language": "python",
   "name": "kagglevil"
  },
  "language_info": {
   "codemirror_mode": {
    "name": "ipython",
    "version": 3
   },
   "file_extension": ".py",
   "mimetype": "text/x-python",
   "name": "python",
   "nbconvert_exporter": "python",
   "pygments_lexer": "ipython3",
   "version": "3.8.5"
  }
 },
 "nbformat": 4,
 "nbformat_minor": 4
}
