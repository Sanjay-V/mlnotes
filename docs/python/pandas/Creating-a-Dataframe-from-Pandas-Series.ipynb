{
 "cells": [
  {
   "cell_type": "raw",
   "metadata": {},
   "source": [
    "---\n",
    "title: \"Creating a Dataframe from Pandas Series\"\n",
    "author: \"Sanjay\"\n",
    "date: 2020-09-04\n",
    "description: \"-\"\n",
    "type: technical_note\n",
    "draft: false\n",
    "---"
   ]
  },
  {
   "cell_type": "code",
   "execution_count": 36,
   "metadata": {},
   "outputs": [],
   "source": [
    "# Import pandas library  \n",
    "import pandas as pd"
   ]
  },
  {
   "cell_type": "code",
   "execution_count": 37,
   "metadata": {},
   "outputs": [],
   "source": [
    "# Initialize lists values\n",
    "students = ['Steven', 'James', 'Ronald', 'Han'] \n",
    "marks = [90, 95, 65, 73] "
   ]
  },
  {
   "cell_type": "code",
   "execution_count": 40,
   "metadata": {},
   "outputs": [
    {
     "name": "stdout",
     "output_type": "stream",
     "text": [
      "['Steven', 'James', 'Ronald', 'Han']\n"
     ]
    }
   ],
   "source": [
    "# Print students list values\n",
    "print(student)"
   ]
  },
  {
   "cell_type": "code",
   "execution_count": 41,
   "metadata": {},
   "outputs": [
    {
     "name": "stdout",
     "output_type": "stream",
     "text": [
      "[90, 95, 65, 73]\n"
     ]
    }
   ],
   "source": [
    "# Print marks list values\n",
    "print(marks)"
   ]
  },
  {
   "cell_type": "code",
   "execution_count": 42,
   "metadata": {},
   "outputs": [
    {
     "name": "stdout",
     "output_type": "stream",
     "text": [
      "0    Steven\n",
      "1     James\n",
      "2    Ronald\n",
      "3       Han\n",
      "dtype: object\n"
     ]
    }
   ],
   "source": [
    "# Importing Series from Pandas for students list and printing it out\n",
    "students = pd.Series(students) \n",
    "marks = pd.Series(marks)\n",
    "print(students)"
   ]
  },
  {
   "cell_type": "code",
   "execution_count": 43,
   "metadata": {},
   "outputs": [
    {
     "name": "stdout",
     "output_type": "stream",
     "text": [
      "0    90\n",
      "1    95\n",
      "2    65\n",
      "3    73\n",
      "dtype: int64\n"
     ]
    }
   ],
   "source": [
    "# Importing Series from Pandas for marks list and printing it out\n",
    "marks = pd.Series(marks) \n",
    "print(marks)"
   ]
  },
  {
   "cell_type": "code",
   "execution_count": 44,
   "metadata": {},
   "outputs": [
    {
     "name": "stdout",
     "output_type": "stream",
     "text": [
      "{'Students': 0    Steven\n",
      "1     James\n",
      "2    Ronald\n",
      "3       Han\n",
      "dtype: object, 'Marks': 0    90\n",
      "1    95\n",
      "2    65\n",
      "3    73\n",
      "dtype: int64}\n"
     ]
    }
   ],
   "source": [
    "# Converting list values into dictionary values\n",
    "data = { 'Students': students, 'Marks': marks } \n",
    "print(data)"
   ]
  },
  {
   "cell_type": "code",
   "execution_count": 46,
   "metadata": {},
   "outputs": [
    {
     "name": "stdout",
     "output_type": "stream",
     "text": [
      "  Students  Marks\n",
      "0   Steven     90\n",
      "1    James     95\n",
      "2   Ronald     65\n",
      "3      Han     73\n"
     ]
    }
   ],
   "source": [
    "# Creating Dataframe from dictionary values\n",
    "data = pd.DataFrame(data) \n",
    "print(data)"
   ]
  },
  {
   "cell_type": "code",
   "execution_count": 47,
   "metadata": {},
   "outputs": [
    {
     "name": "stdout",
     "output_type": "stream",
     "text": [
      "['A+', 'O', 'B+', 'A']\n"
     ]
    }
   ],
   "source": [
    "# Adding external grades list and printing it out\n",
    "grades = [\"A+\", \"O\", \"B+\", \"A\"] \n",
    "print(grades)"
   ]
  },
  {
   "cell_type": "code",
   "execution_count": 48,
   "metadata": {},
   "outputs": [],
   "source": [
    "# Adding grades list to the created dataframe\n",
    "data['Grades'] = pd.Series(grades)"
   ]
  },
  {
   "cell_type": "code",
   "execution_count": 49,
   "metadata": {},
   "outputs": [
    {
     "name": "stdout",
     "output_type": "stream",
     "text": [
      "  Students  Marks Grades\n",
      "0   Steven     90     A+\n",
      "1    James     95      O\n",
      "2   Ronald     65     B+\n",
      "3      Han     73      A\n"
     ]
    }
   ],
   "source": [
    "# Print the dataframe\n",
    "print(data)"
   ]
  }
 ],
 "metadata": {
  "kernelspec": {
   "display_name": "kagglevil",
   "language": "python",
   "name": "kagglevil"
  },
  "language_info": {
   "codemirror_mode": {
    "name": "ipython",
    "version": 3
   },
   "file_extension": ".py",
   "mimetype": "text/x-python",
   "name": "python",
   "nbconvert_exporter": "python",
   "pygments_lexer": "ipython3",
   "version": "3.8.5"
  }
 },
 "nbformat": 4,
 "nbformat_minor": 4
}
