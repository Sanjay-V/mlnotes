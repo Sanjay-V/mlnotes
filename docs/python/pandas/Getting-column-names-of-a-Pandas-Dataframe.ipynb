{
 "cells": [
  {
   "cell_type": "raw",
   "metadata": {},
   "source": [
    "---\n",
    "title: \"Getting column names of a Pandas Dataframe\"\n",
    "author: \"Sanjay\"\n",
    "date: 2020-09-04\n",
    "description: \"-\"\n",
    "type: technical_note\n",
    "draft: false\n",
    "---"
   ]
  },
  {
   "cell_type": "code",
   "execution_count": 19,
   "metadata": {},
   "outputs": [],
   "source": [
    "# Import pandas library  \n",
    "import pandas as pd"
   ]
  },
  {
   "cell_type": "code",
   "execution_count": 20,
   "metadata": {},
   "outputs": [],
   "source": [
    "# Initialize list of dicts \n",
    "data = [{'Mark': 90, 'Grade': \"O\", 'Comments': \"Best\"}, \n",
    "        {'Mark': 75, 'Grade': \"A\", 'Comments': \"Needs to be immproved\"}]  "
   ]
  },
  {
   "cell_type": "code",
   "execution_count": 21,
   "metadata": {},
   "outputs": [
    {
     "name": "stdout",
     "output_type": "stream",
     "text": [
      "[{'Mark': 90, 'Grade': 'O', 'Comments': 'Best'}, {'Mark': 75, 'Grade': 'A', 'Comments': 'Needs to be immproved'}]\n"
     ]
    }
   ],
   "source": [
    "# Print list of dicts \n",
    "print(data)"
   ]
  },
  {
   "cell_type": "code",
   "execution_count": 22,
   "metadata": {},
   "outputs": [],
   "source": [
    "# Create the pandas DataFrame \n",
    "data = pd.DataFrame(data, index =['Stephen', 'Jerry']) "
   ]
  },
  {
   "cell_type": "code",
   "execution_count": 23,
   "metadata": {},
   "outputs": [
    {
     "name": "stdout",
     "output_type": "stream",
     "text": [
      "         Mark Grade               Comments\n",
      "Stephen    90     O                   Best\n",
      "Jerry      75     A  Needs to be immproved\n"
     ]
    }
   ],
   "source": [
    "# Print dataframe  \n",
    "print(data) "
   ]
  },
  {
   "cell_type": "code",
   "execution_count": 24,
   "metadata": {},
   "outputs": [
    {
     "name": "stdout",
     "output_type": "stream",
     "text": [
      "Mark\n",
      "Grade\n",
      "Comments\n"
     ]
    }
   ],
   "source": [
    "# iterating the columns \n",
    "for col in data.columns: \n",
    "    print(col) "
   ]
  }
 ],
 "metadata": {
  "kernelspec": {
   "display_name": "kagglevil",
   "language": "python",
   "name": "kagglevil"
  },
  "language_info": {
   "codemirror_mode": {
    "name": "ipython",
    "version": 3
   },
   "file_extension": ".py",
   "mimetype": "text/x-python",
   "name": "python",
   "nbconvert_exporter": "python",
   "pygments_lexer": "ipython3",
   "version": "3.8.5"
  }
 },
 "nbformat": 4,
 "nbformat_minor": 4
}
